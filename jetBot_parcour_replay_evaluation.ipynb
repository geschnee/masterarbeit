{
 "cells": [
  {
   "cell_type": "markdown",
   "id": "4feb4c7d",
   "metadata": {},
   "source": [
    "# Replay Evaluation Notebook\n",
    "The notebook's aim is to check if the JetBot has enough processing power to use the developed agent's model.\n",
    "The results of this playbook are used to answer question 3 of the master's thesis."
   ]
  },
  {
   "cell_type": "markdown",
   "id": "659c4f55",
   "metadata": {},
   "source": [
    "## 1. Load model"
   ]
  },
  {
   "cell_type": "markdown",
   "id": "27d18739",
   "metadata": {},
   "source": [
    "## 2. Load parcour replay"
   ]
  },
  {
   "cell_type": "markdown",
   "id": "11f822ee",
   "metadata": {},
   "source": [
    "## 3. Process images in replay, log times and outputs\n",
    "This includes preprocessing steps."
   ]
  },
  {
   "cell_type": "markdown",
   "id": "450e4d34",
   "metadata": {},
   "source": [
    "## 4. Verify output correctness"
   ]
  },
  {
   "cell_type": "markdown",
   "id": "11539c98",
   "metadata": {},
   "source": [
    "## 5. Evaluate processing speed"
   ]
  },
  {
   "cell_type": "code",
   "execution_count": 1,
   "id": "d5db4360",
   "metadata": {},
   "outputs": [],
   "source": [
    "# TODO write the code"
   ]
  }
 ],
 "metadata": {
  "kernelspec": {
   "display_name": "Python 3 (ipykernel)",
   "language": "python",
   "name": "python3"
  },
  "language_info": {
   "codemirror_mode": {
    "name": "ipython",
    "version": 3
   },
   "file_extension": ".py",
   "mimetype": "text/x-python",
   "name": "python",
   "nbconvert_exporter": "python",
   "pygments_lexer": "ipython3",
   "version": "3.10.6"
  }
 },
 "nbformat": 4,
 "nbformat_minor": 5
}
